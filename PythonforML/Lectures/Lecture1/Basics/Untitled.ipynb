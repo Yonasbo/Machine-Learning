{
 "cells": [
  {
   "cell_type": "code",
   "execution_count": 15,
   "id": "b2a8e40a-a92c-4bfa-b402-4c2beabe3a48",
   "metadata": {},
   "outputs": [
    {
     "name": "stdout",
     "output_type": "stream",
     "text": [
      "[3, 9, 12, 15, 30, 33]\n"
     ]
    }
   ],
   "source": [
    "list_  = [1 , 3, 4, 5, 10, 11]\n",
    "\n",
    "for i, j in enumerate(list_):\n",
    "    list_[i]= j * 3\n",
    "    \n",
    "print(list_)"
   ]
  },
  {
   "cell_type": "code",
   "execution_count": 6,
   "id": "230a902a-1eda-4069-bb8f-fa3ec03a2452",
   "metadata": {},
   "outputs": [],
   "source": [
    "\n",
    "x= ()\n",
    "x =enumerate([1,4,6,7])"
   ]
  },
  {
   "cell_type": "code",
   "execution_count": 7,
   "id": "29f96f0b-5af8-433f-ba32-3a9bb292804e",
   "metadata": {},
   "outputs": [
    {
     "name": "stdout",
     "output_type": "stream",
     "text": [
      "<enumerate object at 0x000002DA1B234CC0>\n"
     ]
    }
   ],
   "source": [
    "print(x)"
   ]
  },
  {
   "cell_type": "code",
   "execution_count": 20,
   "id": "b64fa719-f71c-417f-bf5a-817225339991",
   "metadata": {},
   "outputs": [
    {
     "name": "stdout",
     "output_type": "stream",
     "text": [
      "hallo deine oin\n"
     ]
    }
   ],
   "source": [
    "\n",
    "a = 1\n",
    "strin1 = 'hallo deine {}'.format('oin')\n",
    "print(strin1)"
   ]
  },
  {
   "cell_type": "code",
   "execution_count": 24,
   "id": "52401740-d9e5-4a48-ab0e-e51e544a55c9",
   "metadata": {},
   "outputs": [
    {
     "data": {
      "text/plain": [
       "'210.000'"
      ]
     },
     "execution_count": 24,
     "metadata": {},
     "output_type": "execute_result"
    }
   ],
   "source": [
    "f'{70*3 :.3f}'"
   ]
  },
  {
   "cell_type": "code",
   "execution_count": 26,
   "id": "f43016db-3fbc-44c8-9e0c-d990c71a764a",
   "metadata": {},
   "outputs": [
    {
     "data": {
      "text/plain": [
       "'wtf 27'"
      ]
     },
     "execution_count": 26,
     "metadata": {},
     "output_type": "execute_result"
    }
   ],
   "source": [
    "f'wtf {9*3}'"
   ]
  },
  {
   "cell_type": "code",
   "execution_count": null,
   "id": "ba1817d3-d99d-4e9d-920b-80f688c8389a",
   "metadata": {},
   "outputs": [],
   "source": []
  },
  {
   "cell_type": "code",
   "execution_count": 33,
   "id": "15adb790-5675-4812-a806-e4136c423c2d",
   "metadata": {},
   "outputs": [
    {
     "data": {
      "text/plain": [
       "'hahah hahaha haha   haha  ha  f a     '"
      ]
     },
     "execution_count": 33,
     "metadata": {},
     "output_type": "execute_result"
    }
   ],
   "source": [
    "'hahah hahaha haha   haha  ha  f a     '.strip('a')"
   ]
  },
  {
   "cell_type": "code",
   "execution_count": 7,
   "id": "b420ac15-dea9-491b-adba-01d448ef7e6a",
   "metadata": {},
   "outputs": [
    {
     "name": "stdout",
     "output_type": "stream",
     "text": [
      "<class 'tuple'>\n"
     ]
    }
   ],
   "source": [
    "x = 'a,b,c'\n",
    "y= ()\n",
    "y = x.split(',')\n",
    "\n",
    "y = tuple(y)\n",
    "\n",
    "print(type(y))"
   ]
  },
  {
   "cell_type": "code",
   "execution_count": 14,
   "id": "eaa7e7fe-5c2a-460c-872a-fda4683daa0f",
   "metadata": {},
   "outputs": [],
   "source": [
    "x = ' blabla /n'"
   ]
  },
  {
   "cell_type": "code",
   "execution_count": 15,
   "id": "dae71bff-4905-4671-9bcf-1381029aa8ff",
   "metadata": {},
   "outputs": [
    {
     "data": {
      "text/plain": [
       "' blabla /n'"
      ]
     },
     "execution_count": 15,
     "metadata": {},
     "output_type": "execute_result"
    }
   ],
   "source": [
    "x"
   ]
  },
  {
   "cell_type": "code",
   "execution_count": 16,
   "id": "af7b5c87-b234-4d56-abb2-b854e7da3254",
   "metadata": {},
   "outputs": [
    {
     "data": {
      "text/plain": [
       "' blabla '"
      ]
     },
     "execution_count": 16,
     "metadata": {},
     "output_type": "execute_result"
    }
   ],
   "source": [
    "x.strip('/n')"
   ]
  },
  {
   "cell_type": "code",
   "execution_count": 21,
   "id": "12c6e68f-4ff8-4b7b-acae-89e424ff8eb1",
   "metadata": {},
   "outputs": [],
   "source": [
    "a= 0\n",
    "a += 1\n"
   ]
  },
  {
   "cell_type": "code",
   "execution_count": 22,
   "id": "a2d42f7e-b509-4f9b-812b-58fb7a8f2595",
   "metadata": {},
   "outputs": [
    {
     "data": {
      "text/plain": [
       "1"
      ]
     },
     "execution_count": 22,
     "metadata": {},
     "output_type": "execute_result"
    }
   ],
   "source": [
    "a"
   ]
  },
  {
   "cell_type": "code",
   "execution_count": 1,
   "id": "a2aa4c1d-6a2e-4a15-b853-ab97b11d5141",
   "metadata": {},
   "outputs": [],
   "source": [
    "nearest = (str, int, str)"
   ]
  },
  {
   "cell_type": "code",
   "execution_count": 2,
   "id": "6f978b36-a011-4a4f-9d08-7e626f8f26e1",
   "metadata": {},
   "outputs": [
    {
     "data": {
      "text/plain": [
       "tuple"
      ]
     },
     "execution_count": 2,
     "metadata": {},
     "output_type": "execute_result"
    }
   ],
   "source": [
    "type(nearest)"
   ]
  },
  {
   "cell_type": "code",
   "execution_count": 4,
   "id": "39fac69e-b71d-4fb1-804f-f2d8334b5df0",
   "metadata": {},
   "outputs": [],
   "source": [
    "i = 4/ 2"
   ]
  },
  {
   "cell_type": "code",
   "execution_count": 5,
   "id": "bfeb34e4-8660-4986-bc1a-6c3b8d4d183a",
   "metadata": {},
   "outputs": [
    {
     "data": {
      "text/plain": [
       "float"
      ]
     },
     "execution_count": 5,
     "metadata": {},
     "output_type": "execute_result"
    }
   ],
   "source": [
    "type(i)"
   ]
  },
  {
   "cell_type": "code",
   "execution_count": 9,
   "id": "36a43102-e2c5-4929-85b0-ee64c7410346",
   "metadata": {},
   "outputs": [],
   "source": [
    "class test:\n",
    "    def _ini_(self):\n",
    "        self.a = float\n",
    "        self.b = float\n",
    "        \n",
    "    def do(self,x):\n",
    "        self.a = 2\n",
    "        self.b = x\n",
    "        \n",
    "\n",
    "    "
   ]
  },
  {
   "cell_type": "code",
   "execution_count": 10,
   "id": "3812e18e-8960-44c4-b0b5-ea5a8ec3f429",
   "metadata": {},
   "outputs": [],
   "source": [
    "haha = test()"
   ]
  },
  {
   "cell_type": "code",
   "execution_count": 11,
   "id": "641b5ecd-924c-4b53-811c-1544c4ccbf97",
   "metadata": {},
   "outputs": [
    {
     "data": {
      "text/plain": [
       "type"
      ]
     },
     "execution_count": 11,
     "metadata": {},
     "output_type": "execute_result"
    }
   ],
   "source": [
    "type(test)"
   ]
  },
  {
   "cell_type": "code",
   "execution_count": 13,
   "id": "4826cf04-ce3b-48aa-a502-85323285f3b6",
   "metadata": {},
   "outputs": [],
   "source": [
    "haha.do(5)"
   ]
  },
  {
   "cell_type": "code",
   "execution_count": 15,
   "id": "6520a9f6-55ed-45e3-8897-f9be6c78fdc7",
   "metadata": {},
   "outputs": [
    {
     "name": "stdout",
     "output_type": "stream",
     "text": [
      "5\n"
     ]
    }
   ],
   "source": [
    "print(haha.b)"
   ]
  },
  {
   "cell_type": "code",
   "execution_count": 16,
   "id": "8834ab06-40a4-4cb6-9e1e-9f8f6a5ab980",
   "metadata": {},
   "outputs": [
    {
     "data": {
      "text/plain": [
       "list"
      ]
     },
     "execution_count": 16,
     "metadata": {},
     "output_type": "execute_result"
    }
   ],
   "source": [
    "x = (1,2,3)\n",
    "\n",
    "x = list(x)\n",
    "\n",
    "type(x)"
   ]
  },
  {
   "cell_type": "code",
   "execution_count": 17,
   "id": "8df9c851-a6af-4af3-a7b4-c249ca9c81c7",
   "metadata": {},
   "outputs": [],
   "source": [
    "x[1]= 3"
   ]
  },
  {
   "cell_type": "code",
   "execution_count": 18,
   "id": "a145e84f-b768-43c0-ab80-7bcab2308226",
   "metadata": {},
   "outputs": [
    {
     "data": {
      "text/plain": [
       "[1, 3, 3]"
      ]
     },
     "execution_count": 18,
     "metadata": {},
     "output_type": "execute_result"
    }
   ],
   "source": [
    "x"
   ]
  },
  {
   "cell_type": "code",
   "execution_count": 21,
   "id": "1eb06bea-33d1-4944-afcb-c4fb707f9a6d",
   "metadata": {},
   "outputs": [],
   "source": [
    "x = [1,2,3,4]\n",
    "for e in x:\n",
    "    x[2]= 4\n"
   ]
  },
  {
   "cell_type": "code",
   "execution_count": 22,
   "id": "78241ca4-eca5-4cc3-a41d-2a4df2612cfa",
   "metadata": {},
   "outputs": [
    {
     "data": {
      "text/plain": [
       "[1, 2, 4, 4]"
      ]
     },
     "execution_count": 22,
     "metadata": {},
     "output_type": "execute_result"
    }
   ],
   "source": [
    "x"
   ]
  },
  {
   "cell_type": "code",
   "execution_count": 23,
   "id": "329de799-dae8-4b38-b13a-ff5b9bd03981",
   "metadata": {},
   "outputs": [],
   "source": [
    "if 2 == 2 ==3 :\n",
    "    print(x)"
   ]
  },
  {
   "cell_type": "code",
   "execution_count": null,
   "id": "9f7a4b75-83f0-4695-bc2b-afea2baaf43a",
   "metadata": {},
   "outputs": [],
   "source": []
  }
 ],
 "metadata": {
  "kernelspec": {
   "display_name": "Python 3",
   "language": "python",
   "name": "python3"
  },
  "language_info": {
   "codemirror_mode": {
    "name": "ipython",
    "version": 3
   },
   "file_extension": ".py",
   "mimetype": "text/x-python",
   "name": "python",
   "nbconvert_exporter": "python",
   "pygments_lexer": "ipython3",
   "version": "3.8.8"
  }
 },
 "nbformat": 4,
 "nbformat_minor": 5
}
