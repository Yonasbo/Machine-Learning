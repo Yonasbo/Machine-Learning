{
 "cells": [
  {
   "cell_type": "code",
   "execution_count": 1,
   "id": "3fe16484-b52d-44df-bb4b-8461ec479633",
   "metadata": {},
   "outputs": [],
   "source": [
    "Q = [[1,2],[3,4],[5,6]]"
   ]
  },
  {
   "cell_type": "code",
   "execution_count": 3,
   "id": "918086d9-3417-4395-9a5e-af2e0e883e51",
   "metadata": {},
   "outputs": [
    {
     "name": "stdout",
     "output_type": "stream",
     "text": [
      "0\n",
      "0\n",
      "1\n",
      "1\n",
      "2\n",
      "2\n"
     ]
    }
   ],
   "source": [
    "for i,element in enumerate(Q):\n",
    "    print(i)\n",
    "    print(i)"
   ]
  },
  {
   "cell_type": "code",
   "execution_count": 9,
   "id": "27b7521b-4189-407d-8450-360c3e577a2b",
   "metadata": {},
   "outputs": [
    {
     "name": "stdout",
     "output_type": "stream",
     "text": [
      "(81, 81)\n"
     ]
    }
   ],
   "source": [
    "import numpy as np\n",
    "R = np.arange(-4,4+1e-9,0.1)\n",
    "X,Y = np.meshgrid(R,R)\n",
    "print(X.shape)\n"
   ]
  },
  {
   "cell_type": "code",
   "execution_count": 12,
   "id": "6a8ccf06-0378-46b0-b4b1-42e131e84d99",
   "metadata": {},
   "outputs": [],
   "source": [
    "x = np.array([1,2])"
   ]
  },
  {
   "cell_type": "code",
   "execution_count": 13,
   "id": "7b12451b-c93a-4c79-be92-231027e2da48",
   "metadata": {},
   "outputs": [
    {
     "data": {
      "text/plain": [
       "array([1, 2])"
      ]
     },
     "execution_count": 13,
     "metadata": {},
     "output_type": "execute_result"
    }
   ],
   "source": [
    "x"
   ]
  },
  {
   "cell_type": "code",
   "execution_count": 15,
   "id": "d3137a94-e361-4271-9ad6-e223af52029d",
   "metadata": {},
   "outputs": [],
   "source": [
    "R = np.arange(1,4)"
   ]
  },
  {
   "cell_type": "code",
   "execution_count": 16,
   "id": "9a7ab076-f7cd-4436-8326-c360ccdc5b5f",
   "metadata": {},
   "outputs": [],
   "source": [
    "X,Y = np.meshgrid(R,R)"
   ]
  },
  {
   "cell_type": "code",
   "execution_count": 17,
   "id": "d2f0bfab-002c-4bf5-97c3-dd20c6fa983d",
   "metadata": {},
   "outputs": [
    {
     "name": "stdout",
     "output_type": "stream",
     "text": [
      "[[1 2 3]\n",
      " [1 2 3]\n",
      " [1 2 3]]\n"
     ]
    }
   ],
   "source": [
    "print(X)"
   ]
  },
  {
   "cell_type": "code",
   "execution_count": 18,
   "id": "02a90ffa-73a1-47d8-9fe4-d57674723f86",
   "metadata": {},
   "outputs": [],
   "source": [
    "Z = np.array([X,Y])"
   ]
  },
  {
   "cell_type": "code",
   "execution_count": 19,
   "id": "8fc22d2b-3156-44f0-9bbe-2753f3c4bff5",
   "metadata": {},
   "outputs": [
    {
     "name": "stdout",
     "output_type": "stream",
     "text": [
      "[[[1 2 3]\n",
      "  [1 2 3]\n",
      "  [1 2 3]]\n",
      "\n",
      " [[1 1 1]\n",
      "  [2 2 2]\n",
      "  [3 3 3]]]\n"
     ]
    }
   ],
   "source": [
    "print(Z)"
   ]
  },
  {
   "cell_type": "code",
   "execution_count": 20,
   "id": "57e033b4-7985-4ee2-afea-a7ba9fc7ce1a",
   "metadata": {},
   "outputs": [],
   "source": [
    "Z = X,Y"
   ]
  },
  {
   "cell_type": "code",
   "execution_count": 24,
   "id": "30c34cca-75cc-4d4a-b4e0-1da3b3146c4c",
   "metadata": {},
   "outputs": [],
   "source": [
    "x1 = np.random.randint(10, size=6)  # random one-dimensional integer array\n",
    "x2 = np.random.randint(10, size=(5, 4))  "
   ]
  },
  {
   "cell_type": "code",
   "execution_count": 27,
   "id": "4956a12b-b7ca-49c3-8937-3f41712445c3",
   "metadata": {},
   "outputs": [
    {
     "name": "stdout",
     "output_type": "stream",
     "text": [
      "[[9 0 7 4]\n",
      " [4 4 7 6]\n",
      " [5 6 9 0]\n",
      " [9 1 4 4]\n",
      " [8 7 6 0]]\n",
      "(6,)\n",
      "(5, 4)\n"
     ]
    }
   ],
   "source": [
    "print(x2)\n",
    "print(x1.shape)\n",
    "print(x2.shape)"
   ]
  },
  {
   "cell_type": "code",
   "execution_count": 28,
   "id": "c116caa8-0536-433d-80b8-4890e40702d4",
   "metadata": {},
   "outputs": [
    {
     "name": "stdout",
     "output_type": "stream",
     "text": [
      "[0 4 7 2 3 1]\n"
     ]
    }
   ],
   "source": [
    "print(x1)"
   ]
  },
  {
   "cell_type": "code",
   "execution_count": null,
   "id": "6aea87e5-a89e-4186-a7ea-ea70c421d161",
   "metadata": {},
   "outputs": [],
   "source": []
  }
 ],
 "metadata": {
  "kernelspec": {
   "display_name": "Python 3 (ipykernel)",
   "language": "python",
   "name": "python3"
  },
  "language_info": {
   "codemirror_mode": {
    "name": "ipython",
    "version": 3
   },
   "file_extension": ".py",
   "mimetype": "text/x-python",
   "name": "python",
   "nbconvert_exporter": "python",
   "pygments_lexer": "ipython3",
   "version": "3.9.13"
  }
 },
 "nbformat": 4,
 "nbformat_minor": 5
}
