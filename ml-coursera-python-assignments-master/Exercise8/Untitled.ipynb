{
 "cells": [
  {
   "cell_type": "code",
   "execution_count": 2,
   "id": "3622bd0d-c808-4bf5-8aab-123a316987b0",
   "metadata": {},
   "outputs": [
    {
     "data": {
      "text/plain": [
       "3"
      ]
     },
     "execution_count": 2,
     "metadata": {},
     "output_type": "execute_result"
    }
   ],
   "source": [
    "0 or 3"
   ]
  },
  {
   "cell_type": "code",
   "execution_count": 3,
   "id": "9a839e28-a771-404a-82e2-67c5f8182553",
   "metadata": {},
   "outputs": [
    {
     "data": {
      "text/plain": [
       "False"
      ]
     },
     "execution_count": 3,
     "metadata": {},
     "output_type": "execute_result"
    }
   ],
   "source": [
    "True and False"
   ]
  },
  {
   "cell_type": "code",
   "execution_count": 4,
   "id": "a57a1c32-c02e-4c79-9388-99bbfbf4cac1",
   "metadata": {},
   "outputs": [
    {
     "data": {
      "text/plain": [
       "False"
      ]
     },
     "execution_count": 4,
     "metadata": {},
     "output_type": "execute_result"
    }
   ],
   "source": [
    "True and True and False"
   ]
  },
  {
   "cell_type": "code",
   "execution_count": 6,
   "id": "3628bf1a-a202-4155-a21c-47a8ad4d6efb",
   "metadata": {},
   "outputs": [
    {
     "data": {
      "text/plain": [
       "6"
      ]
     },
     "execution_count": 6,
     "metadata": {},
     "output_type": "execute_result"
    }
   ],
   "source": [
    "a = \"a\"\n",
    "a and 6"
   ]
  },
  {
   "cell_type": "code",
   "execution_count": 8,
   "id": "a68c39a2-03e4-4ff4-80a0-95fa2ff2ce07",
   "metadata": {},
   "outputs": [
    {
     "data": {
      "text/plain": [
       "'result xar'"
      ]
     },
     "execution_count": 8,
     "metadata": {},
     "output_type": "execute_result"
    }
   ],
   "source": [
    "a= 'xar'\n",
    "f'result {a}'"
   ]
  },
  {
   "cell_type": "code",
   "execution_count": null,
   "id": "eedf636f-9791-45dc-81bf-e145d394ff2a",
   "metadata": {},
   "outputs": [],
   "source": []
  },
  {
   "cell_type": "code",
   "execution_count": null,
   "id": "308f2788-7037-4a74-87f0-541e88456932",
   "metadata": {},
   "outputs": [],
   "source": []
  }
 ],
 "metadata": {
  "kernelspec": {
   "display_name": "Python 3",
   "language": "python",
   "name": "python3"
  },
  "language_info": {
   "codemirror_mode": {
    "name": "ipython",
    "version": 3
   },
   "file_extension": ".py",
   "mimetype": "text/x-python",
   "name": "python",
   "nbconvert_exporter": "python",
   "pygments_lexer": "ipython3",
   "version": "3.8.8"
  }
 },
 "nbformat": 4,
 "nbformat_minor": 5
}
